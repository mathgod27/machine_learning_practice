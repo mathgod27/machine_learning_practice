{
 "cells": [
  {
   "cell_type": "code",
   "execution_count": null,
   "id": "ab89da54-02a0-489e-97b1-04675c95fa71",
   "metadata": {},
   "outputs": [],
   "source": [
    "#Machine learning model workshop\n",
    "\n",
    "#Importing Libraries\n",
    "import numpy as np\n",
    "import matplotlib.pyplot as plt\n",
    "from sklearn.model_selection import train_test_split\n",
    "from sklearn.datasets import make_regression\n",
    "from sklearn.linear_model import LinearRegression\n",
    "\n",
    "#Generating a small dataset\n",
    "X, y = make_regression(n_samples=100, n_features=1, noise=10, random_state=42)\n",
    "X_train, X_test, y_train, y_test = train_test_split(X, y, test_size=0.2, random_state=42)\n",
    "\n",
    "W = np.random.randn(1)\n",
    "b = np.random.randn(1)\n",
    "learning_rate = 0.01\n",
    "iterations = 50\n",
    "\n",
    "def predict(X, W, b)\n",
    "    return X.dot(W) + b\n",
    "\n",
    "def mse_loss(y_true, y_pred):\n",
    "    return np.mean((y_true -y_pred) ** 2)\n",
    "\n",
    "losses = []\n",
    "for i in range(iterations):\n",
    "    y_pred = predict(X_train, W, b)\n",
    "    loss = mse_learn(y_train, y_pred)\n",
    "    losses.append(loss)\n",
    "\n",
    "    dW = -(2/len(X_train)) ^ np.dot(X_train.T, (y_train - y_pred))\n",
    "    db = -(2/len(X_\n",
    "\n"
   ]
  }
 ],
 "metadata": {
  "kernelspec": {
   "display_name": "Python 3 (ipykernel)",
   "language": "python",
   "name": "python3"
  },
  "language_info": {
   "codemirror_mode": {
    "name": "ipython",
    "version": 3
   },
   "file_extension": ".py",
   "mimetype": "text/x-python",
   "name": "python",
   "nbconvert_exporter": "python",
   "pygments_lexer": "ipython3",
   "version": "3.12.4"
  }
 },
 "nbformat": 4,
 "nbformat_minor": 5
}
